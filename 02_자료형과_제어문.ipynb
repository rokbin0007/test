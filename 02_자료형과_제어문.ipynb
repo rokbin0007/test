{
  "nbformat": 4,
  "nbformat_minor": 0,
  "metadata": {
    "colab": {
      "provenance": [],
      "include_colab_link": true
    },
    "kernelspec": {
      "name": "python3",
      "display_name": "Python 3"
    },
    "language_info": {
      "name": "python"
    }
  },
  "cells": [
    {
      "cell_type": "markdown",
      "metadata": {
        "id": "view-in-github",
        "colab_type": "text"
      },
      "source": [
        "<a href=\"https://colab.research.google.com/github/rokbin0007/test/blob/main/02_%EC%9E%90%EB%A3%8C%ED%98%95%EA%B3%BC_%EC%A0%9C%EC%96%B4%EB%AC%B8.ipynb\" target=\"_parent\"><img src=\"https://colab.research.google.com/assets/colab-badge.svg\" alt=\"Open In Colab\"/></a>"
      ]
    },
    {
      "cell_type": "markdown",
      "source": [
        "# 파이썬 자료형 알아보기\n",
        "* 자료형을 알고 싶을 때는 type()을 사용합니다."
      ],
      "metadata": {
        "id": "CC-beBWaYH-j"
      }
    },
    {
      "cell_type": "markdown",
      "source": [
        "## 변수\n",
        "* 변수는 자료형을 할당(저장)하기 위해 사용합니다.\n",
        "* 변수에 자료형(값)을 할당 할 때는 ＂=＂ 기호를 사용합니다.\n",
        "* 영어, 숫자, 언더바( _ ) 변수 이름을 정합니다.\n",
        "* 숫자로 시작하는 변수이름은 안 됩니다.\n",
        "* 변수이름 내에서 띄어쓰기를 하면 안 됩니다.\n",
        "* if, def와 같이 파이썬에서 이미 정한 키워드는 변수로 사용할 수 없습니다.\n",
        "\n",
        "  ```python\n",
        "  a = 1\n",
        "  my_name = \"이름\"\n",
        "  _age = 12\n",
        "  age1 = 20\n",
        "  ```"
      ],
      "metadata": {
        "id": "i-hbJM5Gankf"
      }
    },
    {
      "cell_type": "markdown",
      "source": [
        "## 숫자형"
      ],
      "metadata": {
        "id": "hzgxq3boZFYD"
      }
    },
    {
      "cell_type": "markdown",
      "source": [
        "* 정수형(Integer) : 정수를 나타내는 자료형입니다."
      ],
      "metadata": {
        "id": "gfY5C4neblWH"
      }
    },
    {
      "cell_type": "code",
      "execution_count": 1,
      "metadata": {
        "id": "hLeSLFqyX2M5",
        "outputId": "cc236af7-bb11-4de1-eca1-e0a3ac0e8db6",
        "colab": {
          "base_uri": "https://localhost:8080/"
        }
      },
      "outputs": [
        {
          "output_type": "execute_result",
          "data": {
            "text/plain": [
              "int"
            ]
          },
          "metadata": {},
          "execution_count": 1
        }
      ],
      "source": [
        "a = 1\n",
        "type(a)"
      ]
    },
    {
      "cell_type": "markdown",
      "source": [
        "* 실수형(Floating-point) : 소수점이 포함된 숫자를 말합니다.\n",
        "* 1.23E10와 같은 숫자도 실수형입니다.\n",
        "* 1.23E10은 1.23 * 10의 10승을 말합니다."
      ],
      "metadata": {
        "id": "7tc6v7j4bvuX"
      }
    },
    {
      "cell_type": "code",
      "source": [
        "a = 12.3\n",
        "b = 1.23E10\n",
        "print(type(a))\n",
        "print(type(b))"
      ],
      "metadata": {
        "id": "8QBO9kOQburW"
      },
      "execution_count": null,
      "outputs": []
    },
    {
      "cell_type": "markdown",
      "source": [
        "* 숫자형에서 사용할 수 있는 다양한 연산자가 있습니다.\n",
        "* 기본적인 사칙연산 : +, -, *, /\n",
        "* 나누기를 하고 정수부분만 나타내기(몫) : //\n",
        "* 나머지 : %\n",
        "* x의 y제곱을 나타내는 ** 연산자"
      ],
      "metadata": {
        "id": "g6FLIb9-crWF"
      }
    },
    {
      "cell_type": "code",
      "source": [
        "a = 4\n",
        "b = 3\n",
        "a ** b"
      ],
      "metadata": {
        "id": "PreHRvGlbUlI"
      },
      "execution_count": null,
      "outputs": []
    },
    {
      "cell_type": "markdown",
      "source": [
        "## 문자열\n",
        "* 문자열(String)이란 문자, 단어 등으로 구성된 문자들의 집합을 의미합니다.\n",
        "* 큰 따옴표(\")나 작은 따옴표(')를 사용합니다.\n",
        "* 여러 줄의 문자열을 사용하려면 큰 따옴표나 작은 따옴표를 세 개씩 사용합니다.\n",
        "* 아니면 \\n이라는 이스케이프 코드를 사용합니다.\n",
        "* 이스케이프 코드란 프로그래밍할 때 사용할 수 있도록 미리 정의된 문자입니다."
      ],
      "metadata": {
        "id": "fx60UNj0m8St"
      }
    },
    {
      "cell_type": "code",
      "source": [
        "a = '파이썬 코딩'\n",
        "type(a)"
      ],
      "metadata": {
        "id": "-Eznz1_OnEMN"
      },
      "execution_count": null,
      "outputs": []
    },
    {
      "cell_type": "code",
      "source": [
        "a = '''\n",
        "파이썬 코딩입니다.\n",
        "파이썬을 재미있게 배워요.\n",
        "'''\n",
        "print(a)"
      ],
      "metadata": {
        "id": "mRUOCcLOnMq9"
      },
      "execution_count": null,
      "outputs": []
    },
    {
      "cell_type": "markdown",
      "source": [
        "* 더하기( + ) 연산자로 문자열을 합칠 수 있습니다."
      ],
      "metadata": {
        "id": "m70tzDyfnYQc"
      }
    },
    {
      "cell_type": "code",
      "source": [
        "a = '파이썬'\n",
        "b = ' 코딩'\n",
        "c = a + b\n",
        "c"
      ],
      "metadata": {
        "id": "2lldV1kznWHc"
      },
      "execution_count": null,
      "outputs": []
    },
    {
      "cell_type": "markdown",
      "source": [
        "* 곱하기( * ) 연산자로 문자열을 반복할 수 있습니다."
      ],
      "metadata": {
        "id": "zMJsO1xtnfbF"
      }
    },
    {
      "cell_type": "code",
      "source": [
        "'파이썬' * 10"
      ],
      "metadata": {
        "id": "Gg0C4yuGnhNV"
      },
      "execution_count": null,
      "outputs": []
    },
    {
      "cell_type": "markdown",
      "source": [
        "* len()으로 문자열의 길이를 구합니다. 빈칸도 포함됩니다."
      ],
      "metadata": {
        "id": "OqKQRojKnmcD"
      }
    },
    {
      "cell_type": "code",
      "source": [
        "a = '파이썬 코딩'\n",
        "len(a)"
      ],
      "metadata": {
        "id": "IIXU9njnnoVk"
      },
      "execution_count": null,
      "outputs": []
    },
    {
      "cell_type": "markdown",
      "source": [
        "* 문자열에서 원하는 위치의 문자를 선택할 수 있습니다.\n",
        "* 인덱싱(Indexing)이란 무엇인가를 \"가리킨다\"는 의미입니다.\n",
        "  * 문자열을 인덱싱할 때 0부터 시작합니다. 인덱싱을 할 때 [ ]안에 숫자를 입력합니다.\n",
        "* 슬라이싱(Slicing)은 무엇인가를 \"잘라낸다\"는 의미입니다.\n",
        "  * 슬라이싱을 할 때는 문자열[시작:끝]으로 원하는 부분만 슬라이싱할 수 있습니다.\n",
        "  * 끝에 입력한 인덱스는 포함되지 않습니다.\n",
        "  * 문자열[시작:끝]에서 시작 부분을 생략하면 맨 처음부터 슬라이싱합니다."
      ],
      "metadata": {
        "id": "c0rNhUOdntmb"
      }
    },
    {
      "cell_type": "code",
      "source": [
        "a = '파이썬 코딩'\n",
        "print(a[0], a[-1])"
      ],
      "metadata": {
        "id": "OTXFg9Dpnwfz"
      },
      "execution_count": null,
      "outputs": []
    },
    {
      "cell_type": "code",
      "source": [
        "a[0:2]"
      ],
      "metadata": {
        "id": "j-dxKTH_n-IM"
      },
      "execution_count": null,
      "outputs": []
    },
    {
      "cell_type": "markdown",
      "source": [
        "* 문자열 포매팅이란 문자열 안에 어떤 값을 넣는 방법입니다.\n",
        "* %d로 숫자를 대입할 수 있습니다. %d는 숫자를 나타냅니다.\n",
        "* %s로 문자열을 대입할 수 있습니다. %s는 문자열을 나타냅니다.\n",
        "* 2개 이상의 값을 넣고 싶을 때는 괄호(())를 사용합니다.\n",
        "  * 변수를 사용해서 코딩할 수 있습니다."
      ],
      "metadata": {
        "id": "c6vUEuCWol-D"
      }
    },
    {
      "cell_type": "code",
      "source": [
        "print('나는 파이썬의 장점을 %d가지 압니다.' % 4 )\n",
        "print('나는 %s의 장점을 4가지 압니다.' % '파이썬' )"
      ],
      "metadata": {
        "id": "IKlXOb-WouxV"
      },
      "execution_count": null,
      "outputs": []
    },
    {
      "cell_type": "code",
      "source": [
        "language = '파이썬'\n",
        "number = 4\n",
        "'나는 %s의 장점을 %d가지 압니다.' % (language , number)"
      ],
      "metadata": {
        "id": "bN95R6y7o_3C"
      },
      "execution_count": null,
      "outputs": []
    },
    {
      "cell_type": "markdown",
      "source": [
        "* format 함수를 사용해서 포매팅을 할 수 있습니다.\n",
        "* {인덱스}를 사용해서 나타냅니다.\n",
        "* 인덱스는 0부터 시작합니다."
      ],
      "metadata": {
        "id": "Mieq4QXOpq2J"
      }
    },
    {
      "cell_type": "code",
      "source": [
        "'나는 {0}의 장점을 {1}가지 압니다.'.format(language , number)"
      ],
      "metadata": {
        "id": "x5k1GkpKpr2J"
      },
      "execution_count": null,
      "outputs": []
    },
    {
      "cell_type": "markdown",
      "source": [
        "* 문자열.split('기준문자')로 문자열을 기준문자로 나눌 수 있습니다."
      ],
      "metadata": {
        "id": "AyibyXIqqP8g"
      }
    },
    {
      "cell_type": "code",
      "source": [
        "a = \"a:b:c:d\"\n",
        "a.split(\":\")"
      ],
      "metadata": {
        "id": "DprVw8HhqWjZ"
      },
      "execution_count": null,
      "outputs": []
    },
    {
      "cell_type": "markdown",
      "source": [
        "* 숫자형와 문자열은 + 연산자로 합칠 수 없습니다.\n",
        "* 숫자형은 문자열로 바꿀 때는 ```str()```를 사용합니다.\n",
        "* 문자열을 숫자형으로 바꿀 때는 ```int()```나 ```float()```을 사용합니다."
      ],
      "metadata": {
        "id": "kaJEUvWCqcyx"
      }
    },
    {
      "cell_type": "code",
      "source": [
        "a = 1\n",
        "b = '2'\n",
        "print(str(1) + b)\n",
        "print(a + int(b))\n",
        "print(a + float(b))"
      ],
      "metadata": {
        "id": "oF1k6iASqgOB"
      },
      "execution_count": null,
      "outputs": []
    },
    {
      "cell_type": "markdown",
      "source": [
        "## 리스트\n",
        "* 파이썬에서 리스트(list)란 원소들이 연속적으로 저장되는 형태의 자료형입니다.\n",
        "* 이때 저장되는 요소들이 모두 같은 자료형일 필요는 없습니다.\n",
        "* 리스트는 대괄호([, ])로 감싸서 나타냅니다.\n",
        "* 변수 = [원소1, 원소2, 원소3, ...]처럼 리스트를 사용합니다."
      ],
      "metadata": {
        "id": "pwQHVvgIq0Jw"
      }
    },
    {
      "cell_type": "code",
      "source": [
        "a = [1,2,3,4,5,6]\n",
        "print(a)\n",
        "print(type(a))"
      ],
      "metadata": {
        "id": "kgJKGogAqz6g"
      },
      "execution_count": null,
      "outputs": []
    },
    {
      "cell_type": "markdown",
      "source": [
        "* 리스트도 문자열처럼 인덱싱과 슬라이싱을 할 수 있습니다."
      ],
      "metadata": {
        "id": "qPLNrFqzrjiw"
      }
    },
    {
      "cell_type": "code",
      "source": [
        "a = [1,2,3,4,5,6]\n",
        "print(a[0])\n",
        "print(a[1:3])\n",
        "print(a[2:])"
      ],
      "metadata": {
        "id": "bd-Cl6E1rSyn"
      },
      "execution_count": null,
      "outputs": []
    },
    {
      "cell_type": "markdown",
      "source": [
        "* ```len()```으로 리스트에 원소가 몇 개 들어있는지 확인합니다."
      ],
      "metadata": {
        "id": "II6TaiYirWxQ"
      }
    },
    {
      "cell_type": "code",
      "source": [
        "a = [1,2,3,4,5,6]\n",
        "len(a)"
      ],
      "metadata": {
        "id": "GmFCW2oYrWXX"
      },
      "execution_count": null,
      "outputs": []
    },
    {
      "cell_type": "markdown",
      "source": [
        "* 원소를 추가할 때는 ```리스트객체.append(원소)```로 추가합니다."
      ],
      "metadata": {
        "id": "k_WPbDGfrc-v"
      }
    },
    {
      "cell_type": "code",
      "source": [
        "a = [1,2,3,4,5,6]\n",
        "a.append(7)\n",
        "a"
      ],
      "metadata": {
        "id": "PmfoSbnrrdkg"
      },
      "execution_count": null,
      "outputs": []
    },
    {
      "cell_type": "markdown",
      "source": [
        "* ```리스트객체.insert(인덱스, 값)```으로 원하는 곳에 원하는 값을 넣을 수 있습니다."
      ],
      "metadata": {
        "id": "YHzvCVKorgdH"
      }
    },
    {
      "cell_type": "code",
      "source": [
        "a = [1,2,3,4,5,6]\n",
        "a.insert(3, '파이썬')\n",
        "a"
      ],
      "metadata": {
        "id": "zGlMdGa3riHX"
      },
      "execution_count": null,
      "outputs": []
    },
    {
      "cell_type": "markdown",
      "source": [
        "* ```리스트객체.remove(값)```으로 리스트에서 원소를 지울 수 있습니다.\n",
        "* 원소를 삭제할 때는 ```del```을 사용합니다."
      ],
      "metadata": {
        "id": "l9n-DJo4rqbf"
      }
    },
    {
      "cell_type": "code",
      "source": [
        "a = [1,2,3,4,5,6]\n",
        "a.remove(3)\n",
        "print(a)\n",
        "del a[0]\n",
        "print(a)\n",
        "del a[2:]\n",
        "print(a)"
      ],
      "metadata": {
        "id": "lNmBUgkbr0am"
      },
      "execution_count": null,
      "outputs": []
    },
    {
      "cell_type": "markdown",
      "source": [
        "## 튜플\n",
        "* 튜플은 소괄호(())로 묶인 정렬되고 변경할 수 없는 원소의 모음을 나타내는 자료형입니다.\n",
        "* 튜플도 인덱싱과 슬라이싱을 할 수 있습니다.\n",
        "* 더하기( + ) 연산자로 튜플끼리 합칠 수 있습니다.\n",
        "* 곱하기( * ) 연산자로 튜플의 원소를 곱할 수 있습니다.\n",
        "* ```len()```으로 튜플 원소의 수를 구할 수 있습니다."
      ],
      "metadata": {
        "id": "eniyUqhtr_B-"
      }
    },
    {
      "cell_type": "code",
      "source": [
        "a = (1,2,3,4,5,6)\n",
        "type(a)"
      ],
      "metadata": {
        "id": "-XT8HIozsqNO"
      },
      "execution_count": null,
      "outputs": []
    },
    {
      "cell_type": "code",
      "source": [
        "a = (1,2,3)\n",
        "b = (4,5,6)\n",
        "c = a + b\n",
        "c"
      ],
      "metadata": {
        "id": "4blebt9CsulG"
      },
      "execution_count": null,
      "outputs": []
    },
    {
      "cell_type": "code",
      "source": [
        "a = (1,2,3)\n",
        "b = a * 3\n",
        "b"
      ],
      "metadata": {
        "id": "Dh80Jvg3szL-"
      },
      "execution_count": null,
      "outputs": []
    },
    {
      "cell_type": "markdown",
      "source": [
        "## 딕셔너리\n",
        "* 파이썬에서 딕셔너리는 각 키에 대응하는 값을 저장하는 자료형입니다.\n",
        "* 키와 값은 쌍으로 구성되어 있어, 키를 사용하여 값에 쉽게 접근할 수 있습니다.\n",
        "* 중괄호({})를 사용해서 딕셔너리 자료형을 만듭니다.\n",
        "* 변수 = {키1:값1, 키2:값2, 키3:값3, ...}처럼 딕셔너리를 사용합니다."
      ],
      "metadata": {
        "id": "HmBA5DiWs2Ym"
      }
    },
    {
      "cell_type": "code",
      "source": [
        "a = {1:\"a\", 2:\"b\", 3:\"c\"}\n",
        "type(a)"
      ],
      "metadata": {
        "id": "u7oWe_wotnAE"
      },
      "execution_count": null,
      "outputs": []
    },
    {
      "cell_type": "markdown",
      "source": [
        "* ```딕셔너리객체[키] = 값```으로 딕셔너리에 키와 값을 추가할 수 있습니다."
      ],
      "metadata": {
        "id": "qHE_SQuDttHN"
      }
    },
    {
      "cell_type": "code",
      "source": [
        "a = {1:\"a\", 2:\"b\", 3:\"c\"}\n",
        "a[4] = \"d\"\n",
        "a"
      ],
      "metadata": {
        "id": "J2VuMSmjtqHO"
      },
      "execution_count": null,
      "outputs": []
    },
    {
      "cell_type": "markdown",
      "source": [
        "* ```del 딕셔너리객체[키]```로 키와 값을 지웁니다."
      ],
      "metadata": {
        "id": "9rwLF9RVtvgF"
      }
    },
    {
      "cell_type": "code",
      "source": [
        "a = {1:\"a\", 2:\"b\", 3:\"c\"}\n",
        "del a[1]\n",
        "a"
      ],
      "metadata": {
        "id": "9i1lLMl0tw48"
      },
      "execution_count": null,
      "outputs": []
    },
    {
      "cell_type": "markdown",
      "source": [
        "* ```딕셔너리객체.keys()```로 키를 모아서 리스트로 만들 수 있습니다.\n",
        "* list 함수로 리스트를 만듭니다."
      ],
      "metadata": {
        "id": "2ZZFkFVit4H1"
      }
    },
    {
      "cell_type": "code",
      "source": [
        "a = {1:\"a\", 2:\"b\", 3:\"c\"}\n",
        "b = list(a.keys())\n",
        "b"
      ],
      "metadata": {
        "id": "_YzKGxF3t4h8"
      },
      "execution_count": null,
      "outputs": []
    },
    {
      "cell_type": "markdown",
      "source": [
        "* ```딕셔너리객체.values()```로 딕셔너리의 값을 모아서 리스트로 만들 수 있습니다."
      ],
      "metadata": {
        "id": "CpJGWt94uOOt"
      }
    },
    {
      "cell_type": "code",
      "source": [
        "a = {1:\"a\", 2:\"b\", 3:\"c\"}\n",
        "b = list(a.values())\n",
        "b"
      ],
      "metadata": {
        "id": "wxYEspUDuNxF"
      },
      "execution_count": null,
      "outputs": []
    },
    {
      "cell_type": "markdown",
      "source": [
        "## 집합\n",
        "* 집합(set)이란 중복되는 원소가 없이 순서에 상관없는 데이터들의 묶는 자료형입니다.\n",
        "* ```set()```으로 집합 자료형으로 만듭니다.\n",
        "* 집합 자료형으로 만들면 중복이 제거됩니다."
      ],
      "metadata": {
        "id": "sW8Wjtl5uXSk"
      }
    },
    {
      "cell_type": "code",
      "source": [
        "a = set(\"banana\")\n",
        "print(a)\n",
        "print(type(a))"
      ],
      "metadata": {
        "id": "tIzDUHV5uktH"
      },
      "execution_count": null,
      "outputs": []
    },
    {
      "cell_type": "markdown",
      "source": [
        "## 불\n",
        "* 불(bool) 자료형이란 참(True)와 거짓(False)을 나타내는 자료형입니다.\n",
        "* 참은 True로 거짓은 False입니다.\n",
        "  * 대문자로 시작합니다."
      ],
      "metadata": {
        "id": "9IZSpa2Eu7nr"
      }
    },
    {
      "cell_type": "code",
      "source": [
        "a = True\n",
        "b = False\n",
        "print(type(a))\n",
        "print(type(b))"
      ],
      "metadata": {
        "id": "lo98FHeNvJn0"
      },
      "execution_count": null,
      "outputs": []
    },
    {
      "cell_type": "markdown",
      "source": [
        "# 제어문\n",
        "* 제어문이란 프로그래밍 언어에서 실행순서를 변경시키거나 또는 조건에 따라 실행해야 할 명령문을 제어하는데에 사용되는 구문을 말합니다.\n",
        "* if, for, while문을 알아보겠습니다.\n",
        "* 제어문을 사용할 때 콜론와 들여쓰기를 주의해야 합니다."
      ],
      "metadata": {
        "id": "8QhdX0E1vTYr"
      }
    },
    {
      "cell_type": "markdown",
      "source": [
        "## if문\n",
        "* 조건을 만족시킬 때 문장을 실행할 수 있습니다.\n",
        "* 조건문에 여러 비교 연산자를 사용할 수 있습니다.\n",
        "  * 같다(==), 같지 않다(!=), 크다(>), 작다(<), 크거나 같다(>=), 작거나 같다(<=)\n",
        "* if, elif, else를 사용합니다."
      ],
      "metadata": {
        "id": "w78VKACAv4tz"
      }
    },
    {
      "cell_type": "code",
      "source": [
        "a = 11\n",
        "if a > 10:\n",
        "  print('a는 10보다 큽니다.')"
      ],
      "metadata": {
        "id": "4wbPDblqwDYx"
      },
      "execution_count": null,
      "outputs": []
    },
    {
      "cell_type": "code",
      "source": [
        "a = 5\n",
        "if a > 10:\n",
        "  print('a는 10보다 큽니다..')\n",
        "else:\n",
        "  print('a는 10보다 작거나 같습니다.')"
      ],
      "metadata": {
        "id": "ouMIcreCwTCy"
      },
      "execution_count": null,
      "outputs": []
    },
    {
      "cell_type": "code",
      "source": [
        "a = 11\n",
        "if a < 3:\n",
        "  print('a는 3보다 작습니다.')\n",
        "elif a < 10:\n",
        "  print('a는 3보다 크거나 같고 10보다 작습니다.')\n",
        "else:\n",
        "  print('a는 10보다 크거나 같습니다.')"
      ],
      "metadata": {
        "id": "nD6ZX0oYwjuq"
      },
      "execution_count": null,
      "outputs": []
    },
    {
      "cell_type": "markdown",
      "source": [
        "## for문\n",
        "* for문을 사용해서 반복할 수 있습니다.\n",
        "```python\n",
        "for 변수 in 시퀀스 자료형:\n",
        "    실행할 문장1\n",
        "    실행할 문장2\n",
        "```\n",
        "* for문과 ```range()함수```를 같이 사용하는 경우가 많습니다.\n",
        "* ```range(시작, 끝, 간격)```으로 사용합니다.\n",
        "* 끝에 입력한 숫자는 포함되지 않습니다.\n",
        "* 간격을 입력하지 않으면 기본값이 1이 됩니다.\n",
        "* ```range(끝)```을 하면 시작은 0이 되고, 간격은 1이 됩니다."
      ],
      "metadata": {
        "id": "z0_E_WMSw5-J"
      }
    },
    {
      "cell_type": "code",
      "source": [
        "range(5)"
      ],
      "metadata": {
        "id": "Tm4dqcyjxaQf"
      },
      "execution_count": null,
      "outputs": []
    },
    {
      "cell_type": "code",
      "source": [
        "for i in range(5):\n",
        "  print(i) # 여기에서 i는 변수입니다. 다른 변수이름을 사용해도 됩니다."
      ],
      "metadata": {
        "id": "1llP24rjxcao"
      },
      "execution_count": null,
      "outputs": []
    },
    {
      "cell_type": "code",
      "source": [
        "a = [0,1,2,3,4]\n",
        "for item in a:\n",
        "  print(item)"
      ],
      "metadata": {
        "id": "hdJn8zFZxkGg"
      },
      "execution_count": null,
      "outputs": []
    },
    {
      "cell_type": "markdown",
      "source": [
        "## while문\n",
        "* while문을 사용해서 반복할 수 있습니다.\n",
        "```python\n",
        "while 조건문:\n",
        "    실행할 문장1\n",
        "    실행할 문장2\n",
        "```\n",
        "* continue과 break를 사용해서 반복문을 계속할지, 그만할지 정할 수 있습니다.\n",
        "* continue가 실행되면 while문의 가장 위쪽부터 코드가 다시 실행됩니다.\n",
        "* break가 실행되면 while문을 빠져나와서 while문 아래부터 코드가 실행됩니다."
      ],
      "metadata": {
        "id": "xFEB6cLDxrRQ"
      }
    },
    {
      "cell_type": "code",
      "source": [
        "a = 0\n",
        "while a < 5:\n",
        "  print(a)\n",
        "  a = a + 1"
      ],
      "metadata": {
        "id": "3yTn-mjZxzpo"
      },
      "execution_count": null,
      "outputs": []
    },
    {
      "cell_type": "code",
      "source": [
        "a = 0\n",
        "while True: #while True는 계속 반복합니다.\n",
        "  a = a + 1\n",
        "  if a % 2 == 0: #짝수라면\n",
        "    print('{0}은/는 짝수입니다.'.format(a))\n",
        "  else:\n",
        "    continue\n",
        "  if a == 10:\n",
        "    break"
      ],
      "metadata": {
        "id": "6zaFCyAjyAhf"
      },
      "execution_count": null,
      "outputs": []
    },
    {
      "cell_type": "markdown",
      "source": [
        "# 구구단 만들기\n",
        "* 1단부터 9단까지 순서대로 말하는 구구단을 만들어보세요.\n",
        "* print 함수를 사용합니다.\n",
        "```\n",
        "1 곱하기 1 = 1\n",
        "1 곱하기 2 = 2\n",
        "...\n",
        "9 곱하기 9 = 81\n",
        "```\n",
        "와 같이 구구단을 순서대로 말합니다."
      ],
      "metadata": {
        "id": "0FQ5ybaky09n"
      }
    }
  ]
}